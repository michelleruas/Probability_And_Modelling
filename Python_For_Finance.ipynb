{
  "nbformat": 4,
  "nbformat_minor": 0,
  "metadata": {
    "colab": {
      "name": "Python For Finance.ipynb",
      "provenance": [],
      "authorship_tag": "ABX9TyMUoV5aOcwgZYdJQo3fn9ir",
      "include_colab_link": true
    },
    "kernelspec": {
      "name": "python3",
      "display_name": "Python 3"
    }
  },
  "cells": [
    {
      "cell_type": "markdown",
      "metadata": {
        "id": "view-in-github",
        "colab_type": "text"
      },
      "source": [
        "<a href=\"https://colab.research.google.com/github/michelleruas/Probability_And_Modelling/blob/master/Python_For_Finance.ipynb\" target=\"_parent\"><img src=\"https://colab.research.google.com/assets/colab-badge.svg\" alt=\"Open In Colab\"/></a>"
      ]
    },
    {
      "cell_type": "code",
      "metadata": {
        "id": "EkGjMwETKaSG",
        "colab_type": "code",
        "colab": {}
      },
      "source": [
        "import pandas as pd\n",
        "import pandas_datareader.data as web\n",
        "import matplotlib\n",
        "from bs4 import BeautifulSoup\n",
        "import sklearn as sk\n",
        "import numpy as np"
      ],
      "execution_count": 7,
      "outputs": []
    },
    {
      "cell_type": "code",
      "metadata": {
        "id": "mw7Diu56KnLe",
        "colab_type": "code",
        "colab": {
          "base_uri": "https://localhost:8080/",
          "height": 136
        },
        "outputId": "aa621460-9274-49fa-f67c-51446ab0f8af"
      },
      "source": [
        "import datetime as dt\n",
        "import matplotlib.pyplot as plt\n",
        "from matplotlib import style\n",
        "\n",
        "style.use(\"ggplot\")\n",
        "\n",
        "start = dt.datetime(2000,1,1)\n",
        "end = dt.datetime(2016,12,31)\n",
        "\n",
        "df = web.DataReader(\"TSLA\", 'yahoo', start, end)\n",
        "print(df.head())\n",
        "df.to_csv(\"tsla\")\n"
      ],
      "execution_count": 12,
      "outputs": [
        {
          "output_type": "stream",
          "text": [
            "             High        Low       Open      Close    Volume  Adj Close\n",
            "Date                                                                   \n",
            "2010-06-29  25.00  17.540001  19.000000  23.889999  18766300  23.889999\n",
            "2010-06-30  30.42  23.299999  25.790001  23.830000  17187100  23.830000\n",
            "2010-07-01  25.92  20.270000  25.000000  21.959999   8218800  21.959999\n",
            "2010-07-02  23.10  18.709999  23.000000  19.200001   5139800  19.200001\n",
            "2010-07-06  20.00  15.830000  20.000000  16.110001   6866900  16.110001\n"
          ],
          "name": "stdout"
        }
      ]
    },
    {
      "cell_type": "code",
      "metadata": {
        "id": "HGXX9iSyN7n9",
        "colab_type": "code",
        "colab": {
          "base_uri": "https://localhost:8080/",
          "height": 419
        },
        "outputId": "762293b7-c62d-4797-ad31-e6ad5b23df0b"
      },
      "source": [
        "df = pd.read_csv('tsla')\n",
        "df"
      ],
      "execution_count": 13,
      "outputs": [
        {
          "output_type": "execute_result",
          "data": {
            "text/html": [
              "<div>\n",
              "<style scoped>\n",
              "    .dataframe tbody tr th:only-of-type {\n",
              "        vertical-align: middle;\n",
              "    }\n",
              "\n",
              "    .dataframe tbody tr th {\n",
              "        vertical-align: top;\n",
              "    }\n",
              "\n",
              "    .dataframe thead th {\n",
              "        text-align: right;\n",
              "    }\n",
              "</style>\n",
              "<table border=\"1\" class=\"dataframe\">\n",
              "  <thead>\n",
              "    <tr style=\"text-align: right;\">\n",
              "      <th></th>\n",
              "      <th>Date</th>\n",
              "      <th>High</th>\n",
              "      <th>Low</th>\n",
              "      <th>Open</th>\n",
              "      <th>Close</th>\n",
              "      <th>Volume</th>\n",
              "      <th>Adj Close</th>\n",
              "    </tr>\n",
              "  </thead>\n",
              "  <tbody>\n",
              "    <tr>\n",
              "      <th>0</th>\n",
              "      <td>2010-06-29</td>\n",
              "      <td>25.000000</td>\n",
              "      <td>17.540001</td>\n",
              "      <td>19.000000</td>\n",
              "      <td>23.889999</td>\n",
              "      <td>18766300</td>\n",
              "      <td>23.889999</td>\n",
              "    </tr>\n",
              "    <tr>\n",
              "      <th>1</th>\n",
              "      <td>2010-06-30</td>\n",
              "      <td>30.420000</td>\n",
              "      <td>23.299999</td>\n",
              "      <td>25.790001</td>\n",
              "      <td>23.830000</td>\n",
              "      <td>17187100</td>\n",
              "      <td>23.830000</td>\n",
              "    </tr>\n",
              "    <tr>\n",
              "      <th>2</th>\n",
              "      <td>2010-07-01</td>\n",
              "      <td>25.920000</td>\n",
              "      <td>20.270000</td>\n",
              "      <td>25.000000</td>\n",
              "      <td>21.959999</td>\n",
              "      <td>8218800</td>\n",
              "      <td>21.959999</td>\n",
              "    </tr>\n",
              "    <tr>\n",
              "      <th>3</th>\n",
              "      <td>2010-07-02</td>\n",
              "      <td>23.100000</td>\n",
              "      <td>18.709999</td>\n",
              "      <td>23.000000</td>\n",
              "      <td>19.200001</td>\n",
              "      <td>5139800</td>\n",
              "      <td>19.200001</td>\n",
              "    </tr>\n",
              "    <tr>\n",
              "      <th>4</th>\n",
              "      <td>2010-07-06</td>\n",
              "      <td>20.000000</td>\n",
              "      <td>15.830000</td>\n",
              "      <td>20.000000</td>\n",
              "      <td>16.110001</td>\n",
              "      <td>6866900</td>\n",
              "      <td>16.110001</td>\n",
              "    </tr>\n",
              "    <tr>\n",
              "      <th>...</th>\n",
              "      <td>...</td>\n",
              "      <td>...</td>\n",
              "      <td>...</td>\n",
              "      <td>...</td>\n",
              "      <td>...</td>\n",
              "      <td>...</td>\n",
              "      <td>...</td>\n",
              "    </tr>\n",
              "    <tr>\n",
              "      <th>1635</th>\n",
              "      <td>2016-12-23</td>\n",
              "      <td>213.449997</td>\n",
              "      <td>207.710007</td>\n",
              "      <td>208.000000</td>\n",
              "      <td>213.339996</td>\n",
              "      <td>4670500</td>\n",
              "      <td>213.339996</td>\n",
              "    </tr>\n",
              "    <tr>\n",
              "      <th>1636</th>\n",
              "      <td>2016-12-27</td>\n",
              "      <td>222.250000</td>\n",
              "      <td>214.419998</td>\n",
              "      <td>214.880005</td>\n",
              "      <td>219.529999</td>\n",
              "      <td>5915700</td>\n",
              "      <td>219.529999</td>\n",
              "    </tr>\n",
              "    <tr>\n",
              "      <th>1637</th>\n",
              "      <td>2016-12-28</td>\n",
              "      <td>223.800003</td>\n",
              "      <td>217.199997</td>\n",
              "      <td>221.529999</td>\n",
              "      <td>219.740005</td>\n",
              "      <td>3782500</td>\n",
              "      <td>219.740005</td>\n",
              "    </tr>\n",
              "    <tr>\n",
              "      <th>1638</th>\n",
              "      <td>2016-12-29</td>\n",
              "      <td>219.199997</td>\n",
              "      <td>214.119995</td>\n",
              "      <td>218.559998</td>\n",
              "      <td>214.679993</td>\n",
              "      <td>4045000</td>\n",
              "      <td>214.679993</td>\n",
              "    </tr>\n",
              "    <tr>\n",
              "      <th>1639</th>\n",
              "      <td>2016-12-30</td>\n",
              "      <td>217.500000</td>\n",
              "      <td>211.679993</td>\n",
              "      <td>216.300003</td>\n",
              "      <td>213.690002</td>\n",
              "      <td>4642600</td>\n",
              "      <td>213.690002</td>\n",
              "    </tr>\n",
              "  </tbody>\n",
              "</table>\n",
              "<p>1640 rows × 7 columns</p>\n",
              "</div>"
            ],
            "text/plain": [
              "            Date        High         Low  ...       Close    Volume   Adj Close\n",
              "0     2010-06-29   25.000000   17.540001  ...   23.889999  18766300   23.889999\n",
              "1     2010-06-30   30.420000   23.299999  ...   23.830000  17187100   23.830000\n",
              "2     2010-07-01   25.920000   20.270000  ...   21.959999   8218800   21.959999\n",
              "3     2010-07-02   23.100000   18.709999  ...   19.200001   5139800   19.200001\n",
              "4     2010-07-06   20.000000   15.830000  ...   16.110001   6866900   16.110001\n",
              "...          ...         ...         ...  ...         ...       ...         ...\n",
              "1635  2016-12-23  213.449997  207.710007  ...  213.339996   4670500  213.339996\n",
              "1636  2016-12-27  222.250000  214.419998  ...  219.529999   5915700  219.529999\n",
              "1637  2016-12-28  223.800003  217.199997  ...  219.740005   3782500  219.740005\n",
              "1638  2016-12-29  219.199997  214.119995  ...  214.679993   4045000  214.679993\n",
              "1639  2016-12-30  217.500000  211.679993  ...  213.690002   4642600  213.690002\n",
              "\n",
              "[1640 rows x 7 columns]"
            ]
          },
          "metadata": {
            "tags": []
          },
          "execution_count": 13
        }
      ]
    },
    {
      "cell_type": "code",
      "metadata": {
        "id": "Yg5tzv3nP3JA",
        "colab_type": "code",
        "colab": {}
      },
      "source": [
        ""
      ],
      "execution_count": null,
      "outputs": []
    }
  ]
}